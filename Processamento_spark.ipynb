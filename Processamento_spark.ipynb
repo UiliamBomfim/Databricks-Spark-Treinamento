{
 "cells": [
  {
   "cell_type": "code",
   "execution_count": 0,
   "metadata": {
    "application/vnd.databricks.v1+cell": {
     "inputWidgets": {},
     "nuid": "aa3abb66-aded-487c-98eb-0174c3a67e1c",
     "showTitle": false,
     "title": ""
    }
   },
   "outputs": [
    {
     "data": {
      "text/html": [
       "<style scoped>\n",
       "  .table-result-container {\n",
       "    max-height: 300px;\n",
       "    overflow: auto;\n",
       "  }\n",
       "  table, th, td {\n",
       "    border: 1px solid black;\n",
       "    border-collapse: collapse;\n",
       "  }\n",
       "  th, td {\n",
       "    padding: 5px;\n",
       "  }\n",
       "  th {\n",
       "    text-align: left;\n",
       "  }\n",
       "</style><div class='table-result-container'><table class='table-result'><thead style='background-color: white'><tr><th>path</th><th>name</th><th>size</th><th>modificationTime</th></tr></thead><tbody><tr><td>dbfs:/databricks-datasets/</td><td>databricks-datasets/</td><td>0</td><td>0</td></tr><tr><td>dbfs:/databricks-datasets/COVID/</td><td>COVID/</td><td>0</td><td>0</td></tr><tr><td>dbfs:/databricks-datasets/README.md</td><td>README.md</td><td>976</td><td>1532468253000</td></tr><tr><td>dbfs:/databricks-datasets/Rdatasets/</td><td>Rdatasets/</td><td>0</td><td>0</td></tr><tr><td>dbfs:/databricks-datasets/SPARK_README.md</td><td>SPARK_README.md</td><td>3359</td><td>1455043490000</td></tr><tr><td>dbfs:/databricks-datasets/adult/</td><td>adult/</td><td>0</td><td>0</td></tr><tr><td>dbfs:/databricks-datasets/airlines/</td><td>airlines/</td><td>0</td><td>0</td></tr><tr><td>dbfs:/databricks-datasets/amazon/</td><td>amazon/</td><td>0</td><td>0</td></tr><tr><td>dbfs:/databricks-datasets/asa/</td><td>asa/</td><td>0</td><td>0</td></tr><tr><td>dbfs:/databricks-datasets/atlas_higgs/</td><td>atlas_higgs/</td><td>0</td><td>0</td></tr><tr><td>dbfs:/databricks-datasets/bikeSharing/</td><td>bikeSharing/</td><td>0</td><td>0</td></tr><tr><td>dbfs:/databricks-datasets/cctvVideos/</td><td>cctvVideos/</td><td>0</td><td>0</td></tr><tr><td>dbfs:/databricks-datasets/credit-card-fraud/</td><td>credit-card-fraud/</td><td>0</td><td>0</td></tr><tr><td>dbfs:/databricks-datasets/cs100/</td><td>cs100/</td><td>0</td><td>0</td></tr><tr><td>dbfs:/databricks-datasets/cs110x/</td><td>cs110x/</td><td>0</td><td>0</td></tr><tr><td>dbfs:/databricks-datasets/cs190/</td><td>cs190/</td><td>0</td><td>0</td></tr><tr><td>dbfs:/databricks-datasets/data.gov/</td><td>data.gov/</td><td>0</td><td>0</td></tr><tr><td>dbfs:/databricks-datasets/definitive-guide/</td><td>definitive-guide/</td><td>0</td><td>0</td></tr><tr><td>dbfs:/databricks-datasets/delta-sharing/</td><td>delta-sharing/</td><td>0</td><td>0</td></tr><tr><td>dbfs:/databricks-datasets/flights/</td><td>flights/</td><td>0</td><td>0</td></tr><tr><td>dbfs:/databricks-datasets/flower_photos/</td><td>flower_photos/</td><td>0</td><td>0</td></tr><tr><td>dbfs:/databricks-datasets/flowers/</td><td>flowers/</td><td>0</td><td>0</td></tr><tr><td>dbfs:/databricks-datasets/genomics/</td><td>genomics/</td><td>0</td><td>0</td></tr><tr><td>dbfs:/databricks-datasets/hail/</td><td>hail/</td><td>0</td><td>0</td></tr><tr><td>dbfs:/databricks-datasets/identifying-campaign-effectiveness/</td><td>identifying-campaign-effectiveness/</td><td>0</td><td>0</td></tr><tr><td>dbfs:/databricks-datasets/iot/</td><td>iot/</td><td>0</td><td>0</td></tr><tr><td>dbfs:/databricks-datasets/iot-stream/</td><td>iot-stream/</td><td>0</td><td>0</td></tr><tr><td>dbfs:/databricks-datasets/learning-spark/</td><td>learning-spark/</td><td>0</td><td>0</td></tr><tr><td>dbfs:/databricks-datasets/learning-spark-v2/</td><td>learning-spark-v2/</td><td>0</td><td>0</td></tr><tr><td>dbfs:/databricks-datasets/lending-club-loan-stats/</td><td>lending-club-loan-stats/</td><td>0</td><td>0</td></tr><tr><td>dbfs:/databricks-datasets/med-images/</td><td>med-images/</td><td>0</td><td>0</td></tr><tr><td>dbfs:/databricks-datasets/media/</td><td>media/</td><td>0</td><td>0</td></tr><tr><td>dbfs:/databricks-datasets/mnist-digits/</td><td>mnist-digits/</td><td>0</td><td>0</td></tr><tr><td>dbfs:/databricks-datasets/news20.binary/</td><td>news20.binary/</td><td>0</td><td>0</td></tr><tr><td>dbfs:/databricks-datasets/nyctaxi/</td><td>nyctaxi/</td><td>0</td><td>0</td></tr><tr><td>dbfs:/databricks-datasets/nyctaxi-with-zipcodes/</td><td>nyctaxi-with-zipcodes/</td><td>0</td><td>0</td></tr><tr><td>dbfs:/databricks-datasets/online_retail/</td><td>online_retail/</td><td>0</td><td>0</td></tr><tr><td>dbfs:/databricks-datasets/overlap-join/</td><td>overlap-join/</td><td>0</td><td>0</td></tr><tr><td>dbfs:/databricks-datasets/power-plant/</td><td>power-plant/</td><td>0</td><td>0</td></tr><tr><td>dbfs:/databricks-datasets/retail-org/</td><td>retail-org/</td><td>0</td><td>0</td></tr><tr><td>dbfs:/databricks-datasets/rwe/</td><td>rwe/</td><td>0</td><td>0</td></tr><tr><td>dbfs:/databricks-datasets/sai-summit-2019-sf/</td><td>sai-summit-2019-sf/</td><td>0</td><td>0</td></tr><tr><td>dbfs:/databricks-datasets/sample_logs/</td><td>sample_logs/</td><td>0</td><td>0</td></tr><tr><td>dbfs:/databricks-datasets/samples/</td><td>samples/</td><td>0</td><td>0</td></tr><tr><td>dbfs:/databricks-datasets/sfo_customer_survey/</td><td>sfo_customer_survey/</td><td>0</td><td>0</td></tr><tr><td>dbfs:/databricks-datasets/sms_spam_collection/</td><td>sms_spam_collection/</td><td>0</td><td>0</td></tr><tr><td>dbfs:/databricks-datasets/songs/</td><td>songs/</td><td>0</td><td>0</td></tr><tr><td>dbfs:/databricks-datasets/structured-streaming/</td><td>structured-streaming/</td><td>0</td><td>0</td></tr><tr><td>dbfs:/databricks-datasets/timeseries/</td><td>timeseries/</td><td>0</td><td>0</td></tr><tr><td>dbfs:/databricks-datasets/tpch/</td><td>tpch/</td><td>0</td><td>0</td></tr><tr><td>dbfs:/databricks-datasets/warmup/</td><td>warmup/</td><td>0</td><td>0</td></tr><tr><td>dbfs:/databricks-datasets/weather/</td><td>weather/</td><td>0</td><td>0</td></tr><tr><td>dbfs:/databricks-datasets/wiki/</td><td>wiki/</td><td>0</td><td>0</td></tr><tr><td>dbfs:/databricks-datasets/wikipedia-datasets/</td><td>wikipedia-datasets/</td><td>0</td><td>0</td></tr><tr><td>dbfs:/databricks-datasets/wine-quality/</td><td>wine-quality/</td><td>0</td><td>0</td></tr></tbody></table></div>"
      ]
     },
     "metadata": {
      "application/vnd.databricks.v1+output": {
       "addedWidgets": {},
       "aggData": [],
       "aggError": "",
       "aggOverflow": false,
       "aggSchema": [],
       "aggSeriesLimitReached": false,
       "aggType": "",
       "arguments": {},
       "columnCustomDisplayInfos": {},
       "data": [
        [
         "dbfs:/databricks-datasets/",
         "databricks-datasets/",
         0,
         0
        ],
        [
         "dbfs:/databricks-datasets/COVID/",
         "COVID/",
         0,
         0
        ],
        [
         "dbfs:/databricks-datasets/README.md",
         "README.md",
         976,
         1532468253000
        ],
        [
         "dbfs:/databricks-datasets/Rdatasets/",
         "Rdatasets/",
         0,
         0
        ],
        [
         "dbfs:/databricks-datasets/SPARK_README.md",
         "SPARK_README.md",
         3359,
         1455043490000
        ],
        [
         "dbfs:/databricks-datasets/adult/",
         "adult/",
         0,
         0
        ],
        [
         "dbfs:/databricks-datasets/airlines/",
         "airlines/",
         0,
         0
        ],
        [
         "dbfs:/databricks-datasets/amazon/",
         "amazon/",
         0,
         0
        ],
        [
         "dbfs:/databricks-datasets/asa/",
         "asa/",
         0,
         0
        ],
        [
         "dbfs:/databricks-datasets/atlas_higgs/",
         "atlas_higgs/",
         0,
         0
        ],
        [
         "dbfs:/databricks-datasets/bikeSharing/",
         "bikeSharing/",
         0,
         0
        ],
        [
         "dbfs:/databricks-datasets/cctvVideos/",
         "cctvVideos/",
         0,
         0
        ],
        [
         "dbfs:/databricks-datasets/credit-card-fraud/",
         "credit-card-fraud/",
         0,
         0
        ],
        [
         "dbfs:/databricks-datasets/cs100/",
         "cs100/",
         0,
         0
        ],
        [
         "dbfs:/databricks-datasets/cs110x/",
         "cs110x/",
         0,
         0
        ],
        [
         "dbfs:/databricks-datasets/cs190/",
         "cs190/",
         0,
         0
        ],
        [
         "dbfs:/databricks-datasets/data.gov/",
         "data.gov/",
         0,
         0
        ],
        [
         "dbfs:/databricks-datasets/definitive-guide/",
         "definitive-guide/",
         0,
         0
        ],
        [
         "dbfs:/databricks-datasets/delta-sharing/",
         "delta-sharing/",
         0,
         0
        ],
        [
         "dbfs:/databricks-datasets/flights/",
         "flights/",
         0,
         0
        ],
        [
         "dbfs:/databricks-datasets/flower_photos/",
         "flower_photos/",
         0,
         0
        ],
        [
         "dbfs:/databricks-datasets/flowers/",
         "flowers/",
         0,
         0
        ],
        [
         "dbfs:/databricks-datasets/genomics/",
         "genomics/",
         0,
         0
        ],
        [
         "dbfs:/databricks-datasets/hail/",
         "hail/",
         0,
         0
        ],
        [
         "dbfs:/databricks-datasets/identifying-campaign-effectiveness/",
         "identifying-campaign-effectiveness/",
         0,
         0
        ],
        [
         "dbfs:/databricks-datasets/iot/",
         "iot/",
         0,
         0
        ],
        [
         "dbfs:/databricks-datasets/iot-stream/",
         "iot-stream/",
         0,
         0
        ],
        [
         "dbfs:/databricks-datasets/learning-spark/",
         "learning-spark/",
         0,
         0
        ],
        [
         "dbfs:/databricks-datasets/learning-spark-v2/",
         "learning-spark-v2/",
         0,
         0
        ],
        [
         "dbfs:/databricks-datasets/lending-club-loan-stats/",
         "lending-club-loan-stats/",
         0,
         0
        ],
        [
         "dbfs:/databricks-datasets/med-images/",
         "med-images/",
         0,
         0
        ],
        [
         "dbfs:/databricks-datasets/media/",
         "media/",
         0,
         0
        ],
        [
         "dbfs:/databricks-datasets/mnist-digits/",
         "mnist-digits/",
         0,
         0
        ],
        [
         "dbfs:/databricks-datasets/news20.binary/",
         "news20.binary/",
         0,
         0
        ],
        [
         "dbfs:/databricks-datasets/nyctaxi/",
         "nyctaxi/",
         0,
         0
        ],
        [
         "dbfs:/databricks-datasets/nyctaxi-with-zipcodes/",
         "nyctaxi-with-zipcodes/",
         0,
         0
        ],
        [
         "dbfs:/databricks-datasets/online_retail/",
         "online_retail/",
         0,
         0
        ],
        [
         "dbfs:/databricks-datasets/overlap-join/",
         "overlap-join/",
         0,
         0
        ],
        [
         "dbfs:/databricks-datasets/power-plant/",
         "power-plant/",
         0,
         0
        ],
        [
         "dbfs:/databricks-datasets/retail-org/",
         "retail-org/",
         0,
         0
        ],
        [
         "dbfs:/databricks-datasets/rwe/",
         "rwe/",
         0,
         0
        ],
        [
         "dbfs:/databricks-datasets/sai-summit-2019-sf/",
         "sai-summit-2019-sf/",
         0,
         0
        ],
        [
         "dbfs:/databricks-datasets/sample_logs/",
         "sample_logs/",
         0,
         0
        ],
        [
         "dbfs:/databricks-datasets/samples/",
         "samples/",
         0,
         0
        ],
        [
         "dbfs:/databricks-datasets/sfo_customer_survey/",
         "sfo_customer_survey/",
         0,
         0
        ],
        [
         "dbfs:/databricks-datasets/sms_spam_collection/",
         "sms_spam_collection/",
         0,
         0
        ],
        [
         "dbfs:/databricks-datasets/songs/",
         "songs/",
         0,
         0
        ],
        [
         "dbfs:/databricks-datasets/structured-streaming/",
         "structured-streaming/",
         0,
         0
        ],
        [
         "dbfs:/databricks-datasets/timeseries/",
         "timeseries/",
         0,
         0
        ],
        [
         "dbfs:/databricks-datasets/tpch/",
         "tpch/",
         0,
         0
        ],
        [
         "dbfs:/databricks-datasets/warmup/",
         "warmup/",
         0,
         0
        ],
        [
         "dbfs:/databricks-datasets/weather/",
         "weather/",
         0,
         0
        ],
        [
         "dbfs:/databricks-datasets/wiki/",
         "wiki/",
         0,
         0
        ],
        [
         "dbfs:/databricks-datasets/wikipedia-datasets/",
         "wikipedia-datasets/",
         0,
         0
        ],
        [
         "dbfs:/databricks-datasets/wine-quality/",
         "wine-quality/",
         0,
         0
        ]
       ],
       "datasetInfos": [],
       "dbfsResultPath": null,
       "isJsonSchema": true,
       "metadata": {},
       "overflow": false,
       "plotOptions": {
        "customPlotOptions": {},
        "displayType": "table",
        "pivotAggregation": null,
        "pivotColumns": null,
        "xColumns": null,
        "yColumns": null
       },
       "removedWidgets": [],
       "schema": [
        {
         "metadata": "{}",
         "name": "path",
         "type": "\"string\""
        },
        {
         "metadata": "{}",
         "name": "name",
         "type": "\"string\""
        },
        {
         "metadata": "{}",
         "name": "size",
         "type": "\"long\""
        },
        {
         "metadata": "{}",
         "name": "modificationTime",
         "type": "\"long\""
        }
       ],
       "type": "table"
      }
     },
     "output_type": "display_data"
    }
   ],
   "source": [
    "display(dbutils.fs.ls(\"/databricks-datasets\"))"
   ]
  },
  {
   "cell_type": "code",
   "execution_count": 0,
   "metadata": {
    "application/vnd.databricks.v1+cell": {
     "inputWidgets": {},
     "nuid": "4a6f7c18-d65b-42c7-a78a-b52683a5382c",
     "showTitle": false,
     "title": ""
    }
   },
   "outputs": [],
   "source": [
    "arquivo = \"dbfs:/databricks-datasets/flights/\""
   ]
  },
  {
   "cell_type": "code",
   "execution_count": 0,
   "metadata": {
    "application/vnd.databricks.v1+cell": {
     "inputWidgets": {},
     "nuid": "ee648acb-354c-4f48-900d-19cfd43f5585",
     "showTitle": false,
     "title": ""
    }
   },
   "outputs": [],
   "source": [
    "from pyspark.sql.types import StructType,StructField, StringType, IntegerType, TimestampType\n",
    "\n",
    "csvSchema = StructType([StructField(\"date\", StringType(),False),\\\n",
    "                       StructField(\"delay\", IntegerType(),False),\\\n",
    "                                    StructField(\"distance\", IntegerType(),False),\\\n",
    "                                                StructField(\"origin\", StringType(),False),\\\n",
    "                                                            StructField(\"destination\", StringType(),False)\\\n",
    "                       ])"
   ]
  },
  {
   "cell_type": "code",
   "execution_count": 0,
   "metadata": {
    "application/vnd.databricks.v1+cell": {
     "inputWidgets": {},
     "nuid": "82995184-e8b0-4205-9185-7aa30baa81cb",
     "showTitle": false,
     "title": ""
    }
   },
   "outputs": [],
   "source": [
    "df = spark \\\n",
    ".read.format(\"csv\")\\\n",
    ".option(\"inferSchema\", \"True\")\\\n",
    ".option(\"header\", \"True\")\\\n",
    ".csv(arquivo)\n",
    "\n",
    " #.schema(csvSchema)\\"
   ]
  },
  {
   "cell_type": "code",
   "execution_count": 0,
   "metadata": {
    "application/vnd.databricks.v1+cell": {
     "inputWidgets": {},
     "nuid": "0928e0b8-4000-492b-bb9e-63f23cd2a868",
     "showTitle": false,
     "title": ""
    }
   },
   "outputs": [
    {
     "data": {
      "text/plain": [
       "root\n",
       " |-- date: string (nullable = true)\n",
       " |-- delay: string (nullable = true)\n",
       " |-- distance: string (nullable = true)\n",
       " |-- origin: string (nullable = true)\n",
       " |-- destination: string (nullable = true)\n",
       "\n"
      ]
     },
     "metadata": {
      "application/vnd.databricks.v1+output": {
       "addedWidgets": {},
       "arguments": {},
       "data": "root\n |-- date: string (nullable = true)\n |-- delay: string (nullable = true)\n |-- distance: string (nullable = true)\n |-- origin: string (nullable = true)\n |-- destination: string (nullable = true)\n\n",
       "datasetInfos": [],
       "metadata": {},
       "removedWidgets": [],
       "type": "ansi"
      }
     },
     "output_type": "display_data"
    }
   ],
   "source": [
    "df.printSchema()"
   ]
  },
  {
   "cell_type": "code",
   "execution_count": 0,
   "metadata": {
    "application/vnd.databricks.v1+cell": {
     "inputWidgets": {},
     "nuid": "1b461728-1c52-495f-ae59-cc1fb3db2f55",
     "showTitle": false,
     "title": ""
    }
   },
   "outputs": [
    {
     "data": {
      "text/html": [
       "<style scoped>\n",
       "  .ansiout {\n",
       "    display: block;\n",
       "    unicode-bidi: embed;\n",
       "    white-space: pre-wrap;\n",
       "    word-wrap: break-word;\n",
       "    word-break: break-all;\n",
       "    font-family: \"Source Code Pro\", \"Menlo\", monospace;;\n",
       "    font-size: 13px;\n",
       "    color: #555;\n",
       "    margin-left: 4px;\n",
       "    line-height: 19px;\n",
       "  }\n",
       "</style>\n",
       "\u001b[0;31m---------------------------------------------------------------------------\u001b[0m\n",
       "\u001b[0;31mNameError\u001b[0m                                 Traceback (most recent call last)\n",
       "\u001b[0;32m<command-4331414593632689>\u001b[0m in \u001b[0;36m<module>\u001b[0;34m\u001b[0m\n",
       "\u001b[0;32m----> 1\u001b[0;31m \u001b[0mdf\u001b[0m \u001b[0;34m=\u001b[0m \u001b[0mdf\u001b[0m\u001b[0;34m.\u001b[0m\u001b[0mwithColumn\u001b[0m\u001b[0;34m(\u001b[0m\u001b[0;34m'delay'\u001b[0m\u001b[0;34m,\u001b[0m\u001b[0mdf\u001b[0m\u001b[0;34m[\u001b[0m\u001b[0;34m'delay'\u001b[0m\u001b[0;34m]\u001b[0m\u001b[0;34m.\u001b[0m\u001b[0mcast\u001b[0m\u001b[0;34m(\u001b[0m\u001b[0mIntegerType\u001b[0m\u001b[0;34m(\u001b[0m\u001b[0;34m)\u001b[0m\u001b[0;34m)\u001b[0m\u001b[0;34m)\u001b[0m\u001b[0;34m\u001b[0m\u001b[0;34m\u001b[0m\u001b[0m\n",
       "\u001b[0m\n",
       "\u001b[0;31mNameError\u001b[0m: name 'IntegerType' is not defined"
      ]
     },
     "metadata": {
      "application/vnd.databricks.v1+output": {
       "arguments": {},
       "data": "\u001b[0;31m---------------------------------------------------------------------------\u001b[0m\n\u001b[0;31mNameError\u001b[0m                                 Traceback (most recent call last)\n\u001b[0;32m<command-4331414593632689>\u001b[0m in \u001b[0;36m<module>\u001b[0;34m\u001b[0m\n\u001b[0;32m----> 1\u001b[0;31m \u001b[0mdf\u001b[0m \u001b[0;34m=\u001b[0m \u001b[0mdf\u001b[0m\u001b[0;34m.\u001b[0m\u001b[0mwithColumn\u001b[0m\u001b[0;34m(\u001b[0m\u001b[0;34m'delay'\u001b[0m\u001b[0;34m,\u001b[0m\u001b[0mdf\u001b[0m\u001b[0;34m[\u001b[0m\u001b[0;34m'delay'\u001b[0m\u001b[0;34m]\u001b[0m\u001b[0;34m.\u001b[0m\u001b[0mcast\u001b[0m\u001b[0;34m(\u001b[0m\u001b[0mIntegerType\u001b[0m\u001b[0;34m(\u001b[0m\u001b[0;34m)\u001b[0m\u001b[0;34m)\u001b[0m\u001b[0;34m)\u001b[0m\u001b[0;34m\u001b[0m\u001b[0;34m\u001b[0m\u001b[0m\n\u001b[0m\n\u001b[0;31mNameError\u001b[0m: name 'IntegerType' is not defined",
       "errorSummary": "<span class='ansi-red-fg'>NameError</span>: name 'IntegerType' is not defined",
       "errorTraceType": null,
       "metadata": {},
       "type": "ipynbError"
      }
     },
     "output_type": "display_data"
    }
   ],
   "source": []
  },
  {
   "cell_type": "code",
   "execution_count": 0,
   "metadata": {
    "application/vnd.databricks.v1+cell": {
     "inputWidgets": {},
     "nuid": "8adc4b11-a474-47f9-8fa0-aaf07c9b46e4",
     "showTitle": false,
     "title": ""
    }
   },
   "outputs": [],
   "source": []
  },
  {
   "cell_type": "code",
   "execution_count": 0,
   "metadata": {
    "application/vnd.databricks.v1+cell": {
     "inputWidgets": {},
     "nuid": "30bea22f-791b-452f-ad6e-b6bf5f2ba41d",
     "showTitle": false,
     "title": ""
    }
   },
   "outputs": [
    {
     "data": {
      "text/plain": [
       "Out[87]: [Row(date=None, delay=6, distance=602, origin='ABE', destination='ATL'),\n",
       " Row(date=None, delay=-8, distance=369, origin='ABE', destination='DTW'),\n",
       " Row(date=None, delay=-2, distance=602, origin='ABE', destination='ATL'),\n",
       " Row(date=None, delay=-4, distance=602, origin='ABE', destination='ATL'),\n",
       " Row(date=None, delay=-4, distance=602, origin='ABE', destination='ATL')]"
      ]
     },
     "metadata": {
      "application/vnd.databricks.v1+output": {
       "addedWidgets": {},
       "arguments": {},
       "data": "Out[87]: [Row(date=None, delay=6, distance=602, origin='ABE', destination='ATL'),\n Row(date=None, delay=-8, distance=369, origin='ABE', destination='DTW'),\n Row(date=None, delay=-2, distance=602, origin='ABE', destination='ATL'),\n Row(date=None, delay=-4, distance=602, origin='ABE', destination='ATL'),\n Row(date=None, delay=-4, distance=602, origin='ABE', destination='ATL')]",
       "datasetInfos": [],
       "metadata": {},
       "removedWidgets": [],
       "type": "ansi"
      }
     },
     "output_type": "display_data"
    }
   ],
   "source": [
    "df.take(5)"
   ]
  },
  {
   "cell_type": "code",
   "execution_count": 0,
   "metadata": {
    "application/vnd.databricks.v1+cell": {
     "inputWidgets": {},
     "nuid": "b26c04ae-b67e-4595-8f65-ab92e3698986",
     "showTitle": false,
     "title": ""
    }
   },
   "outputs": [
    {
     "data": {
      "text/plain": [
       "+--------+-----+--------+------+-----------+\n",
       "|    date|delay|distance|origin|destination|\n",
       "+--------+-----+--------+------+-----------+\n",
       "|01011245|    6|     602|   ABE|        ATL|\n",
       "|01020600|   -8|     369|   ABE|        DTW|\n",
       "|01021245|   -2|     602|   ABE|        ATL|\n",
       "|01020605|   -4|     602|   ABE|        ATL|\n",
       "|01031245|   -4|     602|   ABE|        ATL|\n",
       "|01030605|    0|     602|   ABE|        ATL|\n",
       "|01041243|   10|     602|   ABE|        ATL|\n",
       "|01040605|   28|     602|   ABE|        ATL|\n",
       "|01051245|   88|     602|   ABE|        ATL|\n",
       "|01050605|    9|     602|   ABE|        ATL|\n",
       "+--------+-----+--------+------+-----------+\n",
       "only showing top 10 rows\n",
       "\n"
      ]
     },
     "metadata": {
      "application/vnd.databricks.v1+output": {
       "addedWidgets": {},
       "arguments": {},
       "data": "+--------+-----+--------+------+-----------+\n|    date|delay|distance|origin|destination|\n+--------+-----+--------+------+-----------+\n|01011245|    6|     602|   ABE|        ATL|\n|01020600|   -8|     369|   ABE|        DTW|\n|01021245|   -2|     602|   ABE|        ATL|\n|01020605|   -4|     602|   ABE|        ATL|\n|01031245|   -4|     602|   ABE|        ATL|\n|01030605|    0|     602|   ABE|        ATL|\n|01041243|   10|     602|   ABE|        ATL|\n|01040605|   28|     602|   ABE|        ATL|\n|01051245|   88|     602|   ABE|        ATL|\n|01050605|    9|     602|   ABE|        ATL|\n+--------+-----+--------+------+-----------+\nonly showing top 10 rows\n\n",
       "datasetInfos": [],
       "metadata": {},
       "removedWidgets": [],
       "type": "ansi"
      }
     },
     "output_type": "display_data"
    }
   ],
   "source": [
    "display(df.show(10))"
   ]
  },
  {
   "cell_type": "code",
   "execution_count": 0,
   "metadata": {
    "application/vnd.databricks.v1+cell": {
     "inputWidgets": {},
     "nuid": "22809b17-4801-4375-b636-44ad66b95800",
     "showTitle": false,
     "title": ""
    }
   },
   "outputs": [
    {
     "data": {
      "text/plain": [
       "Out[71]: 1392106"
      ]
     },
     "metadata": {
      "application/vnd.databricks.v1+output": {
       "addedWidgets": {},
       "arguments": {},
       "data": "Out[71]: 1392106",
       "datasetInfos": [],
       "metadata": {},
       "removedWidgets": [],
       "type": "ansi"
      }
     },
     "output_type": "display_data"
    }
   ],
   "source": [
    "df.count()"
   ]
  },
  {
   "cell_type": "code",
   "execution_count": 0,
   "metadata": {
    "application/vnd.databricks.v1+cell": {
     "inputWidgets": {},
     "nuid": "8a375737-a0c9-4c0e-904b-eba4743cfa9a",
     "showTitle": false,
     "title": ""
    }
   },
   "outputs": [
    {
     "data": {
      "text/plain": [
       "Out[107]: [Row(max(delay)=1642)]"
      ]
     },
     "metadata": {
      "application/vnd.databricks.v1+output": {
       "addedWidgets": {},
       "arguments": {},
       "data": "Out[107]: [Row(max(delay)=1642)]",
       "datasetInfos": [],
       "metadata": {},
       "removedWidgets": [],
       "type": "ansi"
      }
     },
     "output_type": "display_data"
    }
   ],
   "source": [
    "from pyspark.sql.functions import max\n",
    "df.select(max(\"delay\")).take(1)"
   ]
  },
  {
   "cell_type": "code",
   "execution_count": 0,
   "metadata": {
    "application/vnd.databricks.v1+cell": {
     "inputWidgets": {},
     "nuid": "344ba95f-514b-4fd3-952c-6f5d1cd91e39",
     "showTitle": false,
     "title": ""
    }
   },
   "outputs": [],
   "source": []
  },
  {
   "cell_type": "code",
   "execution_count": 0,
   "metadata": {
    "application/vnd.databricks.v1+cell": {
     "inputWidgets": {},
     "nuid": "d2bdd70d-e187-40c9-9094-ec7d623cf0fe",
     "showTitle": false,
     "title": ""
    }
   },
   "outputs": [
    {
     "data": {
      "text/plain": [
       "+--------+-----+--------+------+-----------+\n",
       "|    date|delay|distance|origin|destination|\n",
       "+--------+-----+--------+------+-----------+\n",
       "|01020600|   -8|     369|   ABE|        DTW|\n",
       "|01021245|   -2|     602|   ABE|        ATL|\n",
       "+--------+-----+--------+------+-----------+\n",
       "only showing top 2 rows\n",
       "\n"
      ]
     },
     "metadata": {
      "application/vnd.databricks.v1+output": {
       "addedWidgets": {},
       "arguments": {},
       "data": "+--------+-----+--------+------+-----------+\n|    date|delay|distance|origin|destination|\n+--------+-----+--------+------+-----------+\n|01020600|   -8|     369|   ABE|        DTW|\n|01021245|   -2|     602|   ABE|        ATL|\n+--------+-----+--------+------+-----------+\nonly showing top 2 rows\n\n",
       "datasetInfos": [],
       "metadata": {},
       "removedWidgets": [],
       "type": "ansi"
      }
     },
     "output_type": "display_data"
    }
   ],
   "source": [
    "df.filter(\"delay < 2\").show(2)"
   ]
  },
  {
   "cell_type": "code",
   "execution_count": 0,
   "metadata": {
    "application/vnd.databricks.v1+cell": {
     "inputWidgets": {},
     "nuid": "04116336-7891-4a95-90e3-8bcecd29f06b",
     "showTitle": false,
     "title": ""
    }
   },
   "outputs": [
    {
     "data": {
      "text/plain": [
       "+--------+-----+--------+------+-----------+\n",
       "|    date|delay|distance|origin|destination|\n",
       "+--------+-----+--------+------+-----------+\n",
       "|01020600|   -8|     369|   ABE|        DTW|\n",
       "|01021245|   -2|     602|   ABE|        ATL|\n",
       "+--------+-----+--------+------+-----------+\n",
       "only showing top 2 rows\n",
       "\n"
      ]
     },
     "metadata": {
      "application/vnd.databricks.v1+output": {
       "addedWidgets": {},
       "arguments": {},
       "data": "+--------+-----+--------+------+-----------+\n|    date|delay|distance|origin|destination|\n+--------+-----+--------+------+-----------+\n|01020600|   -8|     369|   ABE|        DTW|\n|01021245|   -2|     602|   ABE|        ATL|\n+--------+-----+--------+------+-----------+\nonly showing top 2 rows\n\n",
       "datasetInfos": [],
       "metadata": {},
       "removedWidgets": [],
       "type": "ansi"
      }
     },
     "output_type": "display_data"
    }
   ],
   "source": [
    "df.where(\"delay < 2\").show(2)"
   ]
  },
  {
   "cell_type": "code",
   "execution_count": 0,
   "metadata": {
    "application/vnd.databricks.v1+cell": {
     "inputWidgets": {},
     "nuid": "6c12fefc-a3f7-47f1-8c01-22662e6f3824",
     "showTitle": false,
     "title": ""
    }
   },
   "outputs": [
    {
     "data": {
      "text/plain": [
       "+--------+-----+--------+------+-----------+\n",
       "|    date|delay|distance|origin|destination|\n",
       "+--------+-----+--------+------+-----------+\n",
       "|03132010|   -1|     960|   MDW|        RSW|\n",
       "|03130835|   -1|    1321|   MDW|        LAS|\n",
       "|03130835|   -1|     778|   MDW|        DEN|\n",
       "|03131115|   -1|     352|   MDW|        MCI|\n",
       "|03130835|   -1|     814|   MDW|        HOU|\n",
       "+--------+-----+--------+------+-----------+\n",
       "only showing top 5 rows\n",
       "\n"
      ]
     },
     "metadata": {
      "application/vnd.databricks.v1+output": {
       "addedWidgets": {},
       "arguments": {},
       "data": "+--------+-----+--------+------+-----------+\n|    date|delay|distance|origin|destination|\n+--------+-----+--------+------+-----------+\n|03132010|   -1|     960|   MDW|        RSW|\n|03130835|   -1|    1321|   MDW|        LAS|\n|03130835|   -1|     778|   MDW|        DEN|\n|03131115|   -1|     352|   MDW|        MCI|\n|03130835|   -1|     814|   MDW|        HOU|\n+--------+-----+--------+------+-----------+\nonly showing top 5 rows\n\n",
       "datasetInfos": [],
       "metadata": {},
       "removedWidgets": [],
       "type": "ansi"
      }
     },
     "output_type": "display_data"
    }
   ],
   "source": [
    "display(df.sort(\"delay\").where(\"delay <2\").show(5))"
   ]
  },
  {
   "cell_type": "code",
   "execution_count": 0,
   "metadata": {
    "application/vnd.databricks.v1+cell": {
     "inputWidgets": {},
     "nuid": "ff9e7296-16d1-48f5-8a17-6d4dae0b8a36",
     "showTitle": false,
     "title": ""
    }
   },
   "outputs": [
    {
     "data": {
      "text/plain": [
       "+--------+-----+--------+------+-----------+\n",
       "|    date|delay|distance|origin|destination|\n",
       "+--------+-----+--------+------+-----------+\n",
       "|03132010|   -1|     960|   MDW|        RSW|\n",
       "|03130835|   -1|    1321|   MDW|        LAS|\n",
       "|03130835|   -1|     778|   MDW|        DEN|\n",
       "|03131115|   -1|     352|   MDW|        MCI|\n",
       "|03130835|   -1|     814|   MDW|        HOU|\n",
       "+--------+-----+--------+------+-----------+\n",
       "only showing top 5 rows\n",
       "\n"
      ]
     },
     "metadata": {
      "application/vnd.databricks.v1+output": {
       "addedWidgets": {},
       "arguments": {},
       "data": "+--------+-----+--------+------+-----------+\n|    date|delay|distance|origin|destination|\n+--------+-----+--------+------+-----------+\n|03132010|   -1|     960|   MDW|        RSW|\n|03130835|   -1|    1321|   MDW|        LAS|\n|03130835|   -1|     778|   MDW|        DEN|\n|03131115|   -1|     352|   MDW|        MCI|\n|03130835|   -1|     814|   MDW|        HOU|\n+--------+-----+--------+------+-----------+\nonly showing top 5 rows\n\n",
       "datasetInfos": [],
       "metadata": {},
       "removedWidgets": [],
       "type": "ansi"
      }
     },
     "output_type": "display_data"
    }
   ],
   "source": [
    "from pyspark.sql.functions import desc, asc, expr\n",
    "\n",
    "df.orderBy(expr(\"delay asc\")).where(\"delay < 2\").show(5)"
   ]
  },
  {
   "cell_type": "code",
   "execution_count": 0,
   "metadata": {
    "application/vnd.databricks.v1+cell": {
     "inputWidgets": {},
     "nuid": "88b05b67-5843-4541-a10f-393b9d1fac87",
     "showTitle": false,
     "title": ""
    }
   },
   "outputs": [
    {
     "data": {
      "text/plain": [
       "+-------+--------------------+--------------------+--------------------+-------+-----------+\n",
       "|summary|                date|               delay|            distance| origin|destination|\n",
       "+-------+--------------------+--------------------+--------------------+-------+-----------+\n",
       "|  count|             1392106|             1391580|             1391579|1391578|    1391578|\n",
       "|   mean|   2180446.584000322|  12.079802928761449|   690.5508264718184|   null|       null|\n",
       "| stddev|   838031.1536741031|   38.80773374985648|    513.662815366331|   null|       null|\n",
       "|    min|\"Cap-aux-Meules, ...| airline and rout...| dataset can be f...|    ABE|        ABE|\n",
       "|    max|  Yuma\\tAZ\\tUSA\\tYUM|                 995|                 999|    YUM|        YUM|\n",
       "+-------+--------------------+--------------------+--------------------+-------+-----------+\n",
       "\n"
      ]
     },
     "metadata": {
      "application/vnd.databricks.v1+output": {
       "addedWidgets": {},
       "arguments": {},
       "data": "+-------+--------------------+--------------------+--------------------+-------+-----------+\n|summary|                date|               delay|            distance| origin|destination|\n+-------+--------------------+--------------------+--------------------+-------+-----------+\n|  count|             1392106|             1391580|             1391579|1391578|    1391578|\n|   mean|   2180446.584000322|  12.079802928761449|   690.5508264718184|   null|       null|\n| stddev|   838031.1536741031|   38.80773374985648|    513.662815366331|   null|       null|\n|    min|\"Cap-aux-Meules, ...| airline and rout...| dataset can be f...|    ABE|        ABE|\n|    max|  Yuma\\tAZ\\tUSA\\tYUM|                 995|                 999|    YUM|        YUM|\n+-------+--------------------+--------------------+--------------------+-------+-----------+\n\n",
       "datasetInfos": [],
       "metadata": {},
       "removedWidgets": [],
       "type": "ansi"
      }
     },
     "output_type": "display_data"
    }
   ],
   "source": [
    "df.describe().show()"
   ]
  },
  {
   "cell_type": "code",
   "execution_count": 0,
   "metadata": {
    "application/vnd.databricks.v1+cell": {
     "inputWidgets": {},
     "nuid": "74a9f365-173a-443f-a606-ff6080746032",
     "showTitle": false,
     "title": ""
    }
   },
   "outputs": [
    {
     "data": {
      "text/plain": [
       "+--------+-----+--------+------+-----------+-----------+\n",
       "|    date|delay|distance|origin|destination|Nova Coluna|\n",
       "+--------+-----+--------+------+-----------+-----------+\n",
       "|01011245|    6|     602|   ABE|        ATL|        8.0|\n",
       "|01020600|   -8|     369|   ABE|        DTW|       -6.0|\n",
       "|01021245|   -2|     602|   ABE|        ATL|        0.0|\n",
       "|01020605|   -4|     602|   ABE|        ATL|       -2.0|\n",
       "|01031245|   -4|     602|   ABE|        ATL|       -2.0|\n",
       "|01030605|    0|     602|   ABE|        ATL|        2.0|\n",
       "|01041243|   10|     602|   ABE|        ATL|       12.0|\n",
       "|01040605|   28|     602|   ABE|        ATL|       30.0|\n",
       "|01051245|   88|     602|   ABE|        ATL|       90.0|\n",
       "|01050605|    9|     602|   ABE|        ATL|       11.0|\n",
       "+--------+-----+--------+------+-----------+-----------+\n",
       "only showing top 10 rows\n",
       "\n"
      ]
     },
     "metadata": {
      "application/vnd.databricks.v1+output": {
       "addedWidgets": {},
       "arguments": {},
       "data": "+--------+-----+--------+------+-----------+-----------+\n|    date|delay|distance|origin|destination|Nova Coluna|\n+--------+-----+--------+------+-----------+-----------+\n|01011245|    6|     602|   ABE|        ATL|        8.0|\n|01020600|   -8|     369|   ABE|        DTW|       -6.0|\n|01021245|   -2|     602|   ABE|        ATL|        0.0|\n|01020605|   -4|     602|   ABE|        ATL|       -2.0|\n|01031245|   -4|     602|   ABE|        ATL|       -2.0|\n|01030605|    0|     602|   ABE|        ATL|        2.0|\n|01041243|   10|     602|   ABE|        ATL|       12.0|\n|01040605|   28|     602|   ABE|        ATL|       30.0|\n|01051245|   88|     602|   ABE|        ATL|       90.0|\n|01050605|    9|     602|   ABE|        ATL|       11.0|\n+--------+-----+--------+------+-----------+-----------+\nonly showing top 10 rows\n\n",
       "datasetInfos": [],
       "metadata": {},
       "removedWidgets": [],
       "type": "ansi"
      }
     },
     "output_type": "display_data"
    }
   ],
   "source": [
    "#Adicionando uma coluna\n",
    "\n",
    "df= df.withColumn('Nova Coluna', df['delay']+2)\n",
    "df.show(10)"
   ]
  },
  {
   "cell_type": "code",
   "execution_count": 0,
   "metadata": {
    "application/vnd.databricks.v1+cell": {
     "inputWidgets": {},
     "nuid": "a773afd4-f6f2-45b4-a39c-84c90bf8d0f5",
     "showTitle": false,
     "title": ""
    }
   },
   "outputs": [
    {
     "data": {
      "text/plain": [
       "+--------+-----+--------+------+-----------+\n",
       "|    date|delay|distance|origin|destination|\n",
       "+--------+-----+--------+------+-----------+\n",
       "|01011245|    6|     602|   ABE|        ATL|\n",
       "|01020600|   -8|     369|   ABE|        DTW|\n",
       "|01021245|   -2|     602|   ABE|        ATL|\n",
       "|01020605|   -4|     602|   ABE|        ATL|\n",
       "|01031245|   -4|     602|   ABE|        ATL|\n",
       "|01030605|    0|     602|   ABE|        ATL|\n",
       "|01041243|   10|     602|   ABE|        ATL|\n",
       "|01040605|   28|     602|   ABE|        ATL|\n",
       "|01051245|   88|     602|   ABE|        ATL|\n",
       "|01050605|    9|     602|   ABE|        ATL|\n",
       "+--------+-----+--------+------+-----------+\n",
       "only showing top 10 rows\n",
       "\n"
      ]
     },
     "metadata": {
      "application/vnd.databricks.v1+output": {
       "addedWidgets": {},
       "arguments": {},
       "data": "+--------+-----+--------+------+-----------+\n|    date|delay|distance|origin|destination|\n+--------+-----+--------+------+-----------+\n|01011245|    6|     602|   ABE|        ATL|\n|01020600|   -8|     369|   ABE|        DTW|\n|01021245|   -2|     602|   ABE|        ATL|\n|01020605|   -4|     602|   ABE|        ATL|\n|01031245|   -4|     602|   ABE|        ATL|\n|01030605|    0|     602|   ABE|        ATL|\n|01041243|   10|     602|   ABE|        ATL|\n|01040605|   28|     602|   ABE|        ATL|\n|01051245|   88|     602|   ABE|        ATL|\n|01050605|    9|     602|   ABE|        ATL|\n+--------+-----+--------+------+-----------+\nonly showing top 10 rows\n\n",
       "datasetInfos": [],
       "metadata": {},
       "removedWidgets": [],
       "type": "ansi"
      }
     },
     "output_type": "display_data"
    }
   ],
   "source": [
    "# removendo coluna \n",
    "\n",
    "df = df.drop('Nova Coluna')\n",
    "df.show(10)"
   ]
  },
  {
   "cell_type": "code",
   "execution_count": 0,
   "metadata": {
    "application/vnd.databricks.v1+cell": {
     "inputWidgets": {},
     "nuid": "ea60ee1c-f5cd-40e6-9cae-5c2f9565244e",
     "showTitle": false,
     "title": ""
    }
   },
   "outputs": [
    {
     "data": {
      "text/plain": [
       "+--------+-----+--------+------+-----------+-----------+\n",
       "|    date|delay|distance|origin|destination|Nova Coluna|\n",
       "+--------+-----+--------+------+-----------+-----------+\n",
       "|01011245|    6|     602|   ABE|        ATL|        8.0|\n",
       "|01020600|   -8|     369|   ABE|        DTW|       -6.0|\n",
       "|01021245|   -2|     602|   ABE|        ATL|        0.0|\n",
       "|01020605|   -4|     602|   ABE|        ATL|       -2.0|\n",
       "|01031245|   -4|     602|   ABE|        ATL|       -2.0|\n",
       "|01030605|    0|     602|   ABE|        ATL|        2.0|\n",
       "|01041243|   10|     602|   ABE|        ATL|       12.0|\n",
       "|01040605|   28|     602|   ABE|        ATL|       30.0|\n",
       "|01051245|   88|     602|   ABE|        ATL|       90.0|\n",
       "|01050605|    9|     602|   ABE|        ATL|       11.0|\n",
       "+--------+-----+--------+------+-----------+-----------+\n",
       "only showing top 10 rows\n",
       "\n"
      ]
     },
     "metadata": {
      "application/vnd.databricks.v1+output": {
       "addedWidgets": {},
       "arguments": {},
       "data": "+--------+-----+--------+------+-----------+-----------+\n|    date|delay|distance|origin|destination|Nova Coluna|\n+--------+-----+--------+------+-----------+-----------+\n|01011245|    6|     602|   ABE|        ATL|        8.0|\n|01020600|   -8|     369|   ABE|        DTW|       -6.0|\n|01021245|   -2|     602|   ABE|        ATL|        0.0|\n|01020605|   -4|     602|   ABE|        ATL|       -2.0|\n|01031245|   -4|     602|   ABE|        ATL|       -2.0|\n|01030605|    0|     602|   ABE|        ATL|        2.0|\n|01041243|   10|     602|   ABE|        ATL|       12.0|\n|01040605|   28|     602|   ABE|        ATL|       30.0|\n|01051245|   88|     602|   ABE|        ATL|       90.0|\n|01050605|    9|     602|   ABE|        ATL|       11.0|\n+--------+-----+--------+------+-----------+-----------+\nonly showing top 10 rows\n\n",
       "datasetInfos": [],
       "metadata": {},
       "removedWidgets": [],
       "type": "ansi"
      }
     },
     "output_type": "display_data"
    }
   ],
   "source": [
    "#Adicionando uma coluna\n",
    "\n",
    "df= df.withColumn('Nova Coluna', df['delay']+2)\n",
    "df.show(10)"
   ]
  },
  {
   "cell_type": "code",
   "execution_count": 0,
   "metadata": {
    "application/vnd.databricks.v1+cell": {
     "inputWidgets": {},
     "nuid": "823fc44f-625d-4949-a6d1-da0e7c6c0ba6",
     "showTitle": false,
     "title": ""
    }
   },
   "outputs": [
    {
     "data": {
      "text/plain": [
       "+--------+-----+--------+------+-----------+----------+\n",
       "|    date|delay|distance|origin|destination|New Column|\n",
       "+--------+-----+--------+------+-----------+----------+\n",
       "|01011245|    6|     602|   ABE|        ATL|       8.0|\n",
       "|01020600|   -8|     369|   ABE|        DTW|      -6.0|\n",
       "|01021245|   -2|     602|   ABE|        ATL|       0.0|\n",
       "|01020605|   -4|     602|   ABE|        ATL|      -2.0|\n",
       "|01031245|   -4|     602|   ABE|        ATL|      -2.0|\n",
       "|01030605|    0|     602|   ABE|        ATL|       2.0|\n",
       "|01041243|   10|     602|   ABE|        ATL|      12.0|\n",
       "|01040605|   28|     602|   ABE|        ATL|      30.0|\n",
       "|01051245|   88|     602|   ABE|        ATL|      90.0|\n",
       "|01050605|    9|     602|   ABE|        ATL|      11.0|\n",
       "+--------+-----+--------+------+-----------+----------+\n",
       "only showing top 10 rows\n",
       "\n"
      ]
     },
     "metadata": {
      "application/vnd.databricks.v1+output": {
       "addedWidgets": {},
       "arguments": {},
       "data": "+--------+-----+--------+------+-----------+----------+\n|    date|delay|distance|origin|destination|New Column|\n+--------+-----+--------+------+-----------+----------+\n|01011245|    6|     602|   ABE|        ATL|       8.0|\n|01020600|   -8|     369|   ABE|        DTW|      -6.0|\n|01021245|   -2|     602|   ABE|        ATL|       0.0|\n|01020605|   -4|     602|   ABE|        ATL|      -2.0|\n|01031245|   -4|     602|   ABE|        ATL|      -2.0|\n|01030605|    0|     602|   ABE|        ATL|       2.0|\n|01041243|   10|     602|   ABE|        ATL|      12.0|\n|01040605|   28|     602|   ABE|        ATL|      30.0|\n|01051245|   88|     602|   ABE|        ATL|      90.0|\n|01050605|    9|     602|   ABE|        ATL|      11.0|\n+--------+-----+--------+------+-----------+----------+\nonly showing top 10 rows\n\n",
       "datasetInfos": [],
       "metadata": {},
       "removedWidgets": [],
       "type": "ansi"
      }
     },
     "output_type": "display_data"
    }
   ],
   "source": [
    "#Renomeando Coluna\n",
    "\n",
    "df.withColumnRenamed('Nova Coluna', 'New Column').show(10)"
   ]
  },
  {
   "cell_type": "markdown",
   "metadata": {
    "application/vnd.databricks.v1+cell": {
     "inputWidgets": {},
     "nuid": "94f24997-3759-4163-86f5-44e120d6ac10",
     "showTitle": false,
     "title": ""
    }
   },
   "source": [
    "### Trabalhando com Missing values"
   ]
  },
  {
   "cell_type": "code",
   "execution_count": 0,
   "metadata": {
    "application/vnd.databricks.v1+cell": {
     "inputWidgets": {},
     "nuid": "039e5ea5-be99-4b33-9330-a607c83d6afe",
     "showTitle": false,
     "title": ""
    }
   },
   "outputs": [
    {
     "data": {
      "text/plain": [
       "+--------------------+-----+--------+------+-----------+-----------+\n",
       "|                date|delay|distance|origin|destination|Nova Coluna|\n",
       "+--------------------+-----+--------+------+-----------+-----------+\n",
       "|Abbotsford\\tBC\\tC...| null|    null|  null|       null|       null|\n",
       "|Aberdeen\\tSD\\tUSA...| null|    null|  null|       null|       null|\n",
       "|Abilene\\tTX\\tUSA\\...| null|    null|  null|       null|       null|\n",
       "| Akron\\tOH\\tUSA\\tCAK| null|    null|  null|       null|       null|\n",
       "|Alamosa\\tCO\\tUSA\\...| null|    null|  null|       null|       null|\n",
       "|Albany\\tGA\\tUSA\\tABY| null|    null|  null|       null|       null|\n",
       "|Albany\\tNY\\tUSA\\tALB| null|    null|  null|       null|       null|\n",
       "|Albuquerque\\tNM\\t...| null|    null|  null|       null|       null|\n",
       "|Alexandria\\tLA\\tU...| null|    null|  null|       null|       null|\n",
       "|Allentown\\tPA\\tUS...| null|    null|  null|       null|       null|\n",
       "+--------------------+-----+--------+------+-----------+-----------+\n",
       "only showing top 10 rows\n",
       "\n"
      ]
     },
     "metadata": {
      "application/vnd.databricks.v1+output": {
       "addedWidgets": {},
       "arguments": {},
       "data": "+--------------------+-----+--------+------+-----------+-----------+\n|                date|delay|distance|origin|destination|Nova Coluna|\n+--------------------+-----+--------+------+-----------+-----------+\n|Abbotsford\\tBC\\tC...| null|    null|  null|       null|       null|\n|Aberdeen\\tSD\\tUSA...| null|    null|  null|       null|       null|\n|Abilene\\tTX\\tUSA\\...| null|    null|  null|       null|       null|\n| Akron\\tOH\\tUSA\\tCAK| null|    null|  null|       null|       null|\n|Alamosa\\tCO\\tUSA\\...| null|    null|  null|       null|       null|\n|Albany\\tGA\\tUSA\\tABY| null|    null|  null|       null|       null|\n|Albany\\tNY\\tUSA\\tALB| null|    null|  null|       null|       null|\n|Albuquerque\\tNM\\t...| null|    null|  null|       null|       null|\n|Alexandria\\tLA\\tU...| null|    null|  null|       null|       null|\n|Allentown\\tPA\\tUS...| null|    null|  null|       null|       null|\n+--------------------+-----+--------+------+-----------+-----------+\nonly showing top 10 rows\n\n",
       "datasetInfos": [],
       "metadata": {},
       "removedWidgets": [],
       "type": "ansi"
      }
     },
     "output_type": "display_data"
    }
   ],
   "source": [
    "df.filter(\"delay is NULL\").show(10)"
   ]
  },
  {
   "cell_type": "code",
   "execution_count": 0,
   "metadata": {
    "application/vnd.databricks.v1+cell": {
     "inputWidgets": {},
     "nuid": "bf0a4f84-55ac-430f-93e1-4575a265c349",
     "showTitle": false,
     "title": ""
    }
   },
   "outputs": [
    {
     "data": {
      "text/plain": [
       "+--------------------+-----+--------+------+-----------+-----------+\n",
       "|                date|delay|distance|origin|destination|Nova Coluna|\n",
       "+--------------------+-----+--------+------+-----------+-----------+\n",
       "|Abbotsford\\tBC\\tC...| null|    null|  null|       null|       null|\n",
       "|Aberdeen\\tSD\\tUSA...| null|    null|  null|       null|       null|\n",
       "|Abilene\\tTX\\tUSA\\...| null|    null|  null|       null|       null|\n",
       "| Akron\\tOH\\tUSA\\tCAK| null|    null|  null|       null|       null|\n",
       "|Alamosa\\tCO\\tUSA\\...| null|    null|  null|       null|       null|\n",
       "|Albany\\tGA\\tUSA\\tABY| null|    null|  null|       null|       null|\n",
       "|Albany\\tNY\\tUSA\\tALB| null|    null|  null|       null|       null|\n",
       "|Albuquerque\\tNM\\t...| null|    null|  null|       null|       null|\n",
       "|Alexandria\\tLA\\tU...| null|    null|  null|       null|       null|\n",
       "|Allentown\\tPA\\tUS...| null|    null|  null|       null|       null|\n",
       "+--------------------+-----+--------+------+-----------+-----------+\n",
       "only showing top 10 rows\n",
       "\n"
      ]
     },
     "metadata": {
      "application/vnd.databricks.v1+output": {
       "addedWidgets": {},
       "arguments": {},
       "data": "+--------------------+-----+--------+------+-----------+-----------+\n|                date|delay|distance|origin|destination|Nova Coluna|\n+--------------------+-----+--------+------+-----------+-----------+\n|Abbotsford\\tBC\\tC...| null|    null|  null|       null|       null|\n|Aberdeen\\tSD\\tUSA...| null|    null|  null|       null|       null|\n|Abilene\\tTX\\tUSA\\...| null|    null|  null|       null|       null|\n| Akron\\tOH\\tUSA\\tCAK| null|    null|  null|       null|       null|\n|Alamosa\\tCO\\tUSA\\...| null|    null|  null|       null|       null|\n|Albany\\tGA\\tUSA\\tABY| null|    null|  null|       null|       null|\n|Albany\\tNY\\tUSA\\tALB| null|    null|  null|       null|       null|\n|Albuquerque\\tNM\\t...| null|    null|  null|       null|       null|\n|Alexandria\\tLA\\tU...| null|    null|  null|       null|       null|\n|Allentown\\tPA\\tUS...| null|    null|  null|       null|       null|\n+--------------------+-----+--------+------+-----------+-----------+\nonly showing top 10 rows\n\n",
       "datasetInfos": [],
       "metadata": {},
       "removedWidgets": [],
       "type": "ansi"
      }
     },
     "output_type": "display_data"
    }
   ],
   "source": [
    "df.filter(df.delay.isNull()).show(10)"
   ]
  },
  {
   "cell_type": "markdown",
   "metadata": {
    "application/vnd.databricks.v1+cell": {
     "inputWidgets": {},
     "nuid": "5ed59e84-4249-440b-b50f-a0d8ca8c6efd",
     "showTitle": false,
     "title": ""
    }
   },
   "source": [
    "### Preenchendo dados missing"
   ]
  },
  {
   "cell_type": "code",
   "execution_count": 0,
   "metadata": {
    "application/vnd.databricks.v1+cell": {
     "inputWidgets": {},
     "nuid": "57ee8228-e17f-41c7-9f59-fe20c3c9ba0c",
     "showTitle": false,
     "title": ""
    }
   },
   "outputs": [
    {
     "data": {
      "text/plain": [
       "+--------+-----+--------+------+-----------+-----------+\n",
       "|    date|delay|distance|origin|destination|Nova Coluna|\n",
       "+--------+-----+--------+------+-----------+-----------+\n",
       "|01011245|    6|     602|   ABE|        ATL|        8.0|\n",
       "|01020600|   -8|     369|   ABE|        DTW|       -6.0|\n",
       "|01021245|   -2|     602|   ABE|        ATL|        0.0|\n",
       "|01020605|   -4|     602|   ABE|        ATL|       -2.0|\n",
       "|01031245|   -4|     602|   ABE|        ATL|       -2.0|\n",
       "|01030605|    0|     602|   ABE|        ATL|        2.0|\n",
       "|01041243|   10|     602|   ABE|        ATL|       12.0|\n",
       "|01040605|   28|     602|   ABE|        ATL|       30.0|\n",
       "|01051245|   88|     602|   ABE|        ATL|       90.0|\n",
       "|01050605|    9|     602|   ABE|        ATL|       11.0|\n",
       "|01061215|   -6|     602|   ABE|        ATL|       -4.0|\n",
       "|01061725|   69|     602|   ABE|        ATL|       71.0|\n",
       "|01061230|    0|     369|   ABE|        DTW|        2.0|\n",
       "|01060625|   -3|     602|   ABE|        ATL|       -1.0|\n",
       "|01070600|    0|     369|   ABE|        DTW|        2.0|\n",
       "|01071725|    0|     602|   ABE|        ATL|        2.0|\n",
       "|01071230|    0|     369|   ABE|        DTW|        2.0|\n",
       "|01070625|    0|     602|   ABE|        ATL|        2.0|\n",
       "|01071219|    0|     569|   ABE|        ORD|        2.0|\n",
       "|01080600|    0|     369|   ABE|        DTW|        2.0|\n",
       "+--------+-----+--------+------+-----------+-----------+\n",
       "only showing top 20 rows\n",
       "\n"
      ]
     },
     "metadata": {
      "application/vnd.databricks.v1+output": {
       "addedWidgets": {},
       "arguments": {},
       "data": "+--------+-----+--------+------+-----------+-----------+\n|    date|delay|distance|origin|destination|Nova Coluna|\n+--------+-----+--------+------+-----------+-----------+\n|01011245|    6|     602|   ABE|        ATL|        8.0|\n|01020600|   -8|     369|   ABE|        DTW|       -6.0|\n|01021245|   -2|     602|   ABE|        ATL|        0.0|\n|01020605|   -4|     602|   ABE|        ATL|       -2.0|\n|01031245|   -4|     602|   ABE|        ATL|       -2.0|\n|01030605|    0|     602|   ABE|        ATL|        2.0|\n|01041243|   10|     602|   ABE|        ATL|       12.0|\n|01040605|   28|     602|   ABE|        ATL|       30.0|\n|01051245|   88|     602|   ABE|        ATL|       90.0|\n|01050605|    9|     602|   ABE|        ATL|       11.0|\n|01061215|   -6|     602|   ABE|        ATL|       -4.0|\n|01061725|   69|     602|   ABE|        ATL|       71.0|\n|01061230|    0|     369|   ABE|        DTW|        2.0|\n|01060625|   -3|     602|   ABE|        ATL|       -1.0|\n|01070600|    0|     369|   ABE|        DTW|        2.0|\n|01071725|    0|     602|   ABE|        ATL|        2.0|\n|01071230|    0|     369|   ABE|        DTW|        2.0|\n|01070625|    0|     602|   ABE|        ATL|        2.0|\n|01071219|    0|     569|   ABE|        ORD|        2.0|\n|01080600|    0|     369|   ABE|        DTW|        2.0|\n+--------+-----+--------+------+-----------+-----------+\nonly showing top 20 rows\n\n",
       "datasetInfos": [],
       "metadata": {},
       "removedWidgets": [],
       "type": "ansi"
      }
     },
     "output_type": "display_data"
    }
   ],
   "source": [
    "df.na.fill(value=0).show()"
   ]
  },
  {
   "cell_type": "code",
   "execution_count": 0,
   "metadata": {
    "application/vnd.databricks.v1+cell": {
     "inputWidgets": {},
     "nuid": "9bf1612d-94a8-4069-a69d-9e2fb561f71a",
     "showTitle": false,
     "title": ""
    }
   },
   "outputs": [
    {
     "data": {
      "text/plain": [
       "+--------+-----+--------+------+-----------+-----------+\n",
       "|    date|delay|distance|origin|destination|Nova Coluna|\n",
       "+--------+-----+--------+------+-----------+-----------+\n",
       "|01011245|    6|     602|   ABE|        ATL|        8.0|\n",
       "|01020600|   -8|     369|   ABE|        DTW|       -6.0|\n",
       "|01021245|   -2|     602|   ABE|        ATL|        0.0|\n",
       "|01020605|   -4|     602|   ABE|        ATL|       -2.0|\n",
       "|01031245|   -4|     602|   ABE|        ATL|       -2.0|\n",
       "|01030605|    0|     602|   ABE|        ATL|        2.0|\n",
       "|01041243|   10|     602|   ABE|        ATL|       12.0|\n",
       "|01040605|   28|     602|   ABE|        ATL|       30.0|\n",
       "|01051245|   88|     602|   ABE|        ATL|       90.0|\n",
       "|01050605|    9|     602|   ABE|        ATL|       11.0|\n",
       "|01061215|   -6|     602|   ABE|        ATL|       -4.0|\n",
       "|01061725|   69|     602|   ABE|        ATL|       71.0|\n",
       "|01061230|    0|     369|   ABE|        DTW|        2.0|\n",
       "|01060625|   -3|     602|   ABE|        ATL|       -1.0|\n",
       "|01070600|    0|     369|   ABE|        DTW|        2.0|\n",
       "|01071725|    0|     602|   ABE|        ATL|        2.0|\n",
       "|01071230|    0|     369|   ABE|        DTW|        2.0|\n",
       "|01070625|    0|     602|   ABE|        ATL|        2.0|\n",
       "|01071219|    0|     569|   ABE|        ORD|        2.0|\n",
       "|01080600|    0|     369|   ABE|        DTW|        2.0|\n",
       "+--------+-----+--------+------+-----------+-----------+\n",
       "only showing top 20 rows\n",
       "\n"
      ]
     },
     "metadata": {
      "application/vnd.databricks.v1+output": {
       "addedWidgets": {},
       "arguments": {},
       "data": "+--------+-----+--------+------+-----------+-----------+\n|    date|delay|distance|origin|destination|Nova Coluna|\n+--------+-----+--------+------+-----------+-----------+\n|01011245|    6|     602|   ABE|        ATL|        8.0|\n|01020600|   -8|     369|   ABE|        DTW|       -6.0|\n|01021245|   -2|     602|   ABE|        ATL|        0.0|\n|01020605|   -4|     602|   ABE|        ATL|       -2.0|\n|01031245|   -4|     602|   ABE|        ATL|       -2.0|\n|01030605|    0|     602|   ABE|        ATL|        2.0|\n|01041243|   10|     602|   ABE|        ATL|       12.0|\n|01040605|   28|     602|   ABE|        ATL|       30.0|\n|01051245|   88|     602|   ABE|        ATL|       90.0|\n|01050605|    9|     602|   ABE|        ATL|       11.0|\n|01061215|   -6|     602|   ABE|        ATL|       -4.0|\n|01061725|   69|     602|   ABE|        ATL|       71.0|\n|01061230|    0|     369|   ABE|        DTW|        2.0|\n|01060625|   -3|     602|   ABE|        ATL|       -1.0|\n|01070600|    0|     369|   ABE|        DTW|        2.0|\n|01071725|    0|     602|   ABE|        ATL|        2.0|\n|01071230|    0|     369|   ABE|        DTW|        2.0|\n|01070625|    0|     602|   ABE|        ATL|        2.0|\n|01071219|    0|     569|   ABE|        ORD|        2.0|\n|01080600|    0|     369|   ABE|        DTW|        2.0|\n+--------+-----+--------+------+-----------+-----------+\nonly showing top 20 rows\n\n",
       "datasetInfos": [],
       "metadata": {},
       "removedWidgets": [],
       "type": "ansi"
      }
     },
     "output_type": "display_data"
    }
   ],
   "source": [
    "df.na.fill(value=0, subset=['delay']).show()"
   ]
  },
  {
   "cell_type": "code",
   "execution_count": 0,
   "metadata": {
    "application/vnd.databricks.v1+cell": {
     "inputWidgets": {},
     "nuid": "f6619996-4c17-4d83-9095-fba7d93f1d03",
     "showTitle": false,
     "title": ""
    }
   },
   "outputs": [],
   "source": [
    "#preenche os dados com valores de string vazia\n",
    "\n",
    "df.na.fill(\"\").show()"
   ]
  },
  {
   "cell_type": "code",
   "execution_count": 0,
   "metadata": {
    "application/vnd.databricks.v1+cell": {
     "inputWidgets": {},
     "nuid": "34848d69-ec6f-476e-8870-ce6d5bc725a7",
     "showTitle": false,
     "title": ""
    }
   },
   "outputs": [
    {
     "data": {
      "text/plain": [
       "+--------+-----+--------+------+-----------+-----------+\n",
       "|    date|delay|distance|origin|destination|Nova Coluna|\n",
       "+--------+-----+--------+------+-----------+-----------+\n",
       "|01011245|    6|     602|   ABE|        ATL|        8.0|\n",
       "|01020600|   -8|     369|   ABE|        DTW|       -6.0|\n",
       "|01021245|   -2|     602|   ABE|        ATL|        0.0|\n",
       "|01020605|   -4|     602|   ABE|        ATL|       -2.0|\n",
       "|01031245|   -4|     602|   ABE|        ATL|       -2.0|\n",
       "|01030605|    0|     602|   ABE|        ATL|        2.0|\n",
       "|01041243|   10|     602|   ABE|        ATL|       12.0|\n",
       "|01040605|   28|     602|   ABE|        ATL|       30.0|\n",
       "|01051245|   88|     602|   ABE|        ATL|       90.0|\n",
       "|01050605|    9|     602|   ABE|        ATL|       11.0|\n",
       "|01061215|   -6|     602|   ABE|        ATL|       -4.0|\n",
       "|01061725|   69|     602|   ABE|        ATL|       71.0|\n",
       "|01061230|    0|     369|   ABE|        DTW|        2.0|\n",
       "|01060625|   -3|     602|   ABE|        ATL|       -1.0|\n",
       "|01070600|    0|     369|   ABE|        DTW|        2.0|\n",
       "|01071725|    0|     602|   ABE|        ATL|        2.0|\n",
       "|01071230|    0|     369|   ABE|        DTW|        2.0|\n",
       "|01070625|    0|     602|   ABE|        ATL|        2.0|\n",
       "|01071219|    0|     569|   ABE|        ORD|        2.0|\n",
       "|01080600|    0|     369|   ABE|        DTW|        2.0|\n",
       "+--------+-----+--------+------+-----------+-----------+\n",
       "only showing top 20 rows\n",
       "\n"
      ]
     },
     "metadata": {
      "application/vnd.databricks.v1+output": {
       "addedWidgets": {},
       "arguments": {},
       "data": "+--------+-----+--------+------+-----------+-----------+\n|    date|delay|distance|origin|destination|Nova Coluna|\n+--------+-----+--------+------+-----------+-----------+\n|01011245|    6|     602|   ABE|        ATL|        8.0|\n|01020600|   -8|     369|   ABE|        DTW|       -6.0|\n|01021245|   -2|     602|   ABE|        ATL|        0.0|\n|01020605|   -4|     602|   ABE|        ATL|       -2.0|\n|01031245|   -4|     602|   ABE|        ATL|       -2.0|\n|01030605|    0|     602|   ABE|        ATL|        2.0|\n|01041243|   10|     602|   ABE|        ATL|       12.0|\n|01040605|   28|     602|   ABE|        ATL|       30.0|\n|01051245|   88|     602|   ABE|        ATL|       90.0|\n|01050605|    9|     602|   ABE|        ATL|       11.0|\n|01061215|   -6|     602|   ABE|        ATL|       -4.0|\n|01061725|   69|     602|   ABE|        ATL|       71.0|\n|01061230|    0|     369|   ABE|        DTW|        2.0|\n|01060625|   -3|     602|   ABE|        ATL|       -1.0|\n|01070600|    0|     369|   ABE|        DTW|        2.0|\n|01071725|    0|     602|   ABE|        ATL|        2.0|\n|01071230|    0|     369|   ABE|        DTW|        2.0|\n|01070625|    0|     602|   ABE|        ATL|        2.0|\n|01071219|    0|     569|   ABE|        ORD|        2.0|\n|01080600|    0|     369|   ABE|        DTW|        2.0|\n+--------+-----+--------+------+-----------+-----------+\nonly showing top 20 rows\n\n",
       "datasetInfos": [],
       "metadata": {},
       "removedWidgets": [],
       "type": "ansi"
      }
     },
     "output_type": "display_data"
    }
   ],
   "source": [
    "#remove qualquer linha nula de qualquer coluna\n",
    "\n",
    "df.na.drop().show()"
   ]
  }
 ],
 "metadata": {
  "application/vnd.databricks.v1+notebook": {
   "dashboards": [],
   "language": "python",
   "notebookMetadata": {
    "pythonIndentUnit": 4
   },
   "notebookName": "Processamento_spark",
   "notebookOrigID": 2779145660937118,
   "widgets": {}
  },
  "kernelspec": {
   "display_name": "Python 3 (ipykernel)",
   "language": "python",
   "name": "python3"
  },
  "language_info": {
   "codemirror_mode": {
    "name": "ipython",
    "version": 3
   },
   "file_extension": ".py",
   "mimetype": "text/x-python",
   "name": "python",
   "nbconvert_exporter": "python",
   "pygments_lexer": "ipython3",
   "version": "3.9.7"
  }
 },
 "nbformat": 4,
 "nbformat_minor": 1
}
